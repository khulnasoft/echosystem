{
 "cells": [
  {
   "attachments": {},
   "cell_type": "markdown",
   "metadata": {},
   "source": [
    "# TO REPLACE: Title"
   ]
  },
  {
   "attachments": {},
   "cell_type": "markdown",
   "metadata": {},
   "source": [
    "TO REPLACE: description"
   ]
  },
  {
   "cell_type": "markdown",
   "metadata": {},
   "source": [
    "If you already have `MLKit` installed you can skip this cell, but if you are using Colab, you will have to install `MLKit` manually. You can do so by running the cell below ⬇️\n",
    "\n",
    "Keep in mind that for the package to be available, you will have to click on **\"Runtime > Restart Runtime\"** 😄"
   ]
  },
  {
   "cell_type": "code",
   "execution_count": null,
   "metadata": {},
   "outputs": [],
   "source": [
    "!git clone https://github.com/khulnasoft/mlkit.git\n",
    "!cd ivy && python3 -m pip install --user -e ."
   ]
  },
  {
   "cell_type": "code",
   "execution_count": null,
   "metadata": {},
   "outputs": [],
   "source": [
    "# TO REPLACE:\n",
    "# All contents start from here!\n",
    "# Use ## tag (h2) for section titles\n",
    "# Use ### tag (h3) for subsection titles\n",
    "# Use normal paragraph (p, no tag) for steps and explanations"
   ]
  }
 ],
 "metadata": {
  "language_info": {
   "name": "python"
  },
  "orig_nbformat": 4
 },
 "nbformat": 4,
 "nbformat_minor": 2
}
